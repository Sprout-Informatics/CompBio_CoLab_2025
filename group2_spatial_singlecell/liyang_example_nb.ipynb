{
  "nbformat": 4,
  "nbformat_minor": 0,
  "metadata": {
    "colab": {
      "provenance": [],
      "authorship_tag": "ABX9TyNKYdC6+D9rp8Bq4YuVZyOf",
      "include_colab_link": true
    },
    "kernelspec": {
      "name": "python3",
      "display_name": "Python 3"
    },
    "language_info": {
      "name": "python"
    }
  },
  "cells": [
    {
      "cell_type": "markdown",
      "metadata": {
        "id": "view-in-github",
        "colab_type": "text"
      },
      "source": [
        "<a href=\"https://colab.research.google.com/github/Sprout-Informatics/CompBio_CoLab_2025/blob/group2_dev/group2_spatial_singlecell/liyang_example_nb.ipynb\" target=\"_parent\"><img src=\"https://colab.research.google.com/assets/colab-badge.svg\" alt=\"Open In Colab\"/></a>"
      ]
    },
    {
      "cell_type": "markdown",
      "source": [
        "# Liyang's example template notebook copy\n",
        "\n",
        "I created a copy of template.ipynb and saved to the group2_spatial_singlecell subdirectory, in the branch group2_dev.\n",
        "\n",
        "I will make edits to this file and commit the changes as an example."
      ],
      "metadata": {
        "id": "HQH-qlzvL9rF"
      }
    },
    {
      "cell_type": "code",
      "execution_count": null,
      "metadata": {
        "id": "zxoot4Y0-mBm"
      },
      "outputs": [],
      "source": [
        "# example python packages to load\n",
        "\n",
        "import pandas as pd\n",
        "import matplotlib.pyplot as plt\n",
        "import numpy as np\n",
        "\n",
        "from importlib import reload"
      ]
    },
    {
      "cell_type": "code",
      "source": [
        "print(\"Hello world!\")\n",
        "print(\"This is a template notebook\")"
      ],
      "metadata": {
        "id": "TZNfdJNo_C86",
        "outputId": "f70adebb-9ac3-4c07-f98f-92c5ee75f626",
        "colab": {
          "base_uri": "https://localhost:8080/"
        }
      },
      "execution_count": null,
      "outputs": [
        {
          "output_type": "stream",
          "name": "stdout",
          "text": [
            "Hello world!\n",
            "This is a template notebook\n"
          ]
        }
      ]
    },
    {
      "cell_type": "markdown",
      "source": [
        "Adding some new code below to test the commit feature"
      ],
      "metadata": {
        "id": "oLxh50h1NsQ0"
      }
    },
    {
      "cell_type": "code",
      "source": [
        "for i in range(1, 11):\n",
        "  print(i)"
      ],
      "metadata": {
        "colab": {
          "base_uri": "https://localhost:8080/"
        },
        "id": "KD_rk_FNR7Kf",
        "outputId": "881dfc0e-4474-4b57-a502-e217ea3db9bb"
      },
      "execution_count": 3,
      "outputs": [
        {
          "output_type": "stream",
          "name": "stdout",
          "text": [
            "1\n",
            "2\n",
            "3\n",
            "4\n",
            "5\n",
            "6\n",
            "7\n",
            "8\n",
            "9\n",
            "10\n"
          ]
        }
      ]
    }
  ]
}