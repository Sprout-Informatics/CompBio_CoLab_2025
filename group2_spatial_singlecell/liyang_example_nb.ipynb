{
  "nbformat": 4,
  "nbformat_minor": 0,
  "metadata": {
    "colab": {
      "provenance": [],
      "authorship_tag": "ABX9TyMNOYGSMgJYLD5P7xG4MVpM",
      "include_colab_link": true
    },
    "kernelspec": {
      "name": "python3",
      "display_name": "Python 3"
    },
    "language_info": {
      "name": "python"
    }
  },
  "cells": [
    {
      "cell_type": "markdown",
      "metadata": {
        "id": "view-in-github",
        "colab_type": "text"
      },
      "source": [
        "<a href=\"https://colab.research.google.com/github/Sprout-Informatics/CompBio_CoLab_2025/blob/group2_dev/group2_spatial_singlecell/liyang_example_nb.ipynb\" target=\"_parent\"><img src=\"https://colab.research.google.com/assets/colab-badge.svg\" alt=\"Open In Colab\"/></a>"
      ]
    },
    {
      "cell_type": "markdown",
      "source": [
        "# This is a template you can copy to start a new notebook\n",
        "\n",
        "When getting started, open this notebook in CoLab.\n",
        "\n",
        "Save the notebook by clicking the \"Save in GitHub to keep changes\" button at the top (next to the name of the notebook).\n",
        "\n",
        "In the save screen, you will be asked to provide a path for the new notebook. Here you can change the name of the notebook, but also the appropriate subdirectory for your group. Make sure the path reads \\<GROUP_SUBDIRECTORY\\>/\\<FILENAME\\>.ipynb. This will save the file appropriately for others to load in the future."
      ],
      "metadata": {
        "id": "HQH-qlzvL9rF"
      }
    },
    {
      "cell_type": "code",
      "execution_count": 1,
      "metadata": {
        "id": "zxoot4Y0-mBm"
      },
      "outputs": [],
      "source": [
        "# example python packages to load\n",
        "\n",
        "import pandas as pd\n",
        "import matplotlib.pyplot as plt\n",
        "import numpy as np\n",
        "\n",
        "from importlib import reload"
      ]
    },
    {
      "cell_type": "code",
      "source": [
        "print(\"Hello world!\")\n",
        "print(\"This is a template notebook\")"
      ],
      "metadata": {
        "id": "TZNfdJNo_C86",
        "outputId": "f70adebb-9ac3-4c07-f98f-92c5ee75f626",
        "colab": {
          "base_uri": "https://localhost:8080/"
        }
      },
      "execution_count": 2,
      "outputs": [
        {
          "output_type": "stream",
          "name": "stdout",
          "text": [
            "Hello world!\n",
            "This is a template notebook\n"
          ]
        }
      ]
    },
    {
      "cell_type": "markdown",
      "source": [
        "If loading an in-use notebook in the future and wanting to commit changes (as opposed to creating a new file), run the following code chunks"
      ],
      "metadata": {
        "id": "oLxh50h1NsQ0"
      }
    },
    {
      "cell_type": "code",
      "source": [],
      "metadata": {
        "id": "_A-CnpWqN2Q5"
      },
      "execution_count": null,
      "outputs": []
    }
  ]
}